{
 "cells": [
  {
   "cell_type": "code",
   "execution_count": 1,
   "metadata": {},
   "outputs": [
    {
     "name": "stdout",
     "output_type": "stream",
     "text": [
      "Extracting MNIST_data\\train-images-idx3-ubyte.gz\n",
      "Extracting MNIST_data\\train-labels-idx1-ubyte.gz\n",
      "Extracting MNIST_data\\t10k-images-idx3-ubyte.gz\n",
      "Extracting MNIST_data\\t10k-labels-idx1-ubyte.gz\n"
     ]
    }
   ],
   "source": [
    "import tensorflow as tf\n",
    "from tensorflow.examples.tutorials.mnist import input_data\n",
    "mnist=input_data.read_data_sets('MNIST_data',one_hot=True)"
   ]
  },
  {
   "cell_type": "code",
   "execution_count": 2,
   "metadata": {},
   "outputs": [],
   "source": [
    "x=tf.placeholder(tf.float32, shape=[None,784]) #28*28\n",
    "w0=tf.Variable(tf.zeros([784,10]), tf.float32)\n",
    "b0=tf.Variable(tf.zeros([10]), tf.float32)\n",
    "y0=tf.placeholder(tf.float32, shape=[None,20])\n",
    "w1=tf.Variable(tf.zeros([10,10]), tf.float32)\n",
    "b1=tf.Variable(tf.zeros([10]), tf.float32)\n",
    "#y1 =tf.placeholder(tf.float32, shape=[None,10])\n",
    "\n",
    "y_ =tf.placeholder(tf.float32, shape=[None,10]) #Ground put"
   ]
  },
  {
   "cell_type": "code",
   "execution_count": 14,
   "metadata": {},
   "outputs": [],
   "source": [
    "#y0=tf.nn.softmax( tf.matmul(x,w0) + b0)\n",
    "#y1=tf.nn.softmax( tf.matmul(y0,w1) + b1)\n",
    "\n",
    "y0=tf.nn.sigmoid( tf.matmul(x,w0) + b0)\n",
    "y1=tf.nn.sigmoid( tf.matmul(y0,w1) + b1)"
   ]
  },
  {
   "cell_type": "code",
   "execution_count": 18,
   "metadata": {},
   "outputs": [],
   "source": [
    "#cross_entropy=tf.reduce_mean(-tf.reduce_sum(y_*tf.log(y1), reduction_indices=[1]))\n",
    "#train_step=tf.train.GradientDescentOptimizer(0.01).minimize(cross_entropy)\n",
    "cross_entropy=tf.reduce_mean(-tf.reduce_sum(y_*tf.log(y1), reduction_indices=[1]))\n",
    "train_step=tf.train.AdamOptimizer(0.01).minimize(cross_entropy)"
   ]
  },
  {
   "cell_type": "code",
   "execution_count": 19,
   "metadata": {},
   "outputs": [
    {
     "name": "stdout",
     "output_type": "stream",
     "text": [
      "0.693147\n",
      "0.012819\n",
      "0.00540809\n",
      "0.00297223\n",
      "0.00200734\n",
      "0.00146982\n",
      "0.00108249\n",
      "0.000855834\n",
      "0.000691843\n",
      "0.000590735\n",
      "END!\n"
     ]
    }
   ],
   "source": [
    "sess=tf.InteractiveSession()\n",
    "sess.run(tf.global_variables_initializer()) \n",
    "\n",
    "for i in range(1000):\n",
    "    batch=mnist.train.next_batch(50)\n",
    "    _,cost=sess.run([train_step,cross_entropy],feed_dict={x:batch[0], y_:batch[1]})\n",
    "    if i%100==0:\n",
    "        print(cost)\n",
    "sess.close()\n",
    "print(\"END!\")"
   ]
  },
  {
   "cell_type": "code",
   "execution_count": null,
   "metadata": {
    "collapsed": true
   },
   "outputs": [],
   "source": []
  },
  {
   "cell_type": "code",
   "execution_count": null,
   "metadata": {
    "collapsed": true
   },
   "outputs": [],
   "source": []
  }
 ],
 "metadata": {
  "kernelspec": {
   "display_name": "Python 3",
   "language": "python",
   "name": "python3"
  },
  "language_info": {
   "codemirror_mode": {
    "name": "ipython",
    "version": 3
   },
   "file_extension": ".py",
   "mimetype": "text/x-python",
   "name": "python",
   "nbconvert_exporter": "python",
   "pygments_lexer": "ipython3",
   "version": "3.5.0"
  }
 },
 "nbformat": 4,
 "nbformat_minor": 2
}
